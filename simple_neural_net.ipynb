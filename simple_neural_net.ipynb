{
 "cells": [
  {
   "cell_type": "code",
   "execution_count": 1,
   "metadata": {},
   "outputs": [
    {
     "data": {
      "image/png": "[encoded data removed]",
      "text/plain": [
       "<Figure size 432x288 with 1 Axes>"
      ]
     },
     "metadata": {
      "needs_background": "light"
     },
     "output_type": "display_data"
    }
   ],
   "source": [
    "import torch\n",
    "import numpy\n",
    "from sklearn.datasets import make_blobs\n",
    "import matplotlib.pyplot as plt\n",
    "import torch.nn.functional as F\n",
    "import os\n",
    "os.environ['KMP_DUPLICATE_LIB_OK']='TRUE'\n",
    "\n",
    "n_dim = 2\n",
    "# x는 데이터 y는 레이블 cluster_std 가 0.3이므로 0,1,2,3으로 레이블 인덱싱 되었다고 이해하면 되나?\n",
    "x_train, y_train = make_blobs(n_samples=80, n_features=n_dim, centers=[[1,1],[-1,-1],[1,-1],[-1,1]], shuffle=True, cluster_std=0.3)\n",
    "x_test, y_test = make_blobs(n_samples=20, n_features=n_dim, centers=[[1,1],[-1,-1],[1,-1],[-1,1]], shuffle=True, cluster_std=0.3)\n",
    "\n",
    "#0,1레이블은 0으로 2,3은 1로 바꾸는 함수\n",
    "def label_map(y_, from_, to_):\n",
    "    y = numpy.copy(y_)\n",
    "    for f in from_:\n",
    "        y[y_==f] = to_\n",
    "    return y\n",
    "\n",
    "y_train = label_map(y_train, [0,1],0)\n",
    "y_train = label_map(y_train, [2,3],1)\n",
    "y_test = label_map(y_test,[0,1],0)\n",
    "y_test = label_map(y_test,[2,3],1)\n",
    "\n",
    "# 레이블을 바꾼 내역들을 이용해서 그래프에 표기 \n",
    "def vis_data(x,y=None, c='r'):\n",
    "    if y is None:\n",
    "        y =[None] * len(x)\n",
    "    for x_,y_ in zip(x,y):\n",
    "        if y_ is None:\n",
    "            plt.plot(x_[0],x_[1],'*',markerfacecolor='none',markeredgecolor=c)\n",
    "        else:\n",
    "            plt.plot(x_[0],x_[1],c+'o' if y_ == 0 else c+'+')\n",
    "\n",
    "plt.figure()\n",
    "vis_data(x_train,y_train,c='r')\n",
    "plt.show()\n",
    "            "
   ]
  },
  {
   "cell_type": "code",
   "execution_count": 2,
   "metadata": {},
   "outputs": [],
   "source": [
    "x_train = torch.FloatTensor(x_train)\n",
    "x_test = torch.FloatTensor(x_test)\n",
    "y_train = torch.FloatTensor(y_train)\n",
    "y_test = torch.FloatTensor(y_test)"
   ]
  },
  {
   "cell_type": "code",
   "execution_count": 3,
   "metadata": {},
   "outputs": [],
   "source": [
    "class NerualNet(torch.nn.Module):\n",
    "    def __init__(self, input_size, hidden_size):\n",
    "        super(NerualNet, self).__init__()\n",
    "        #input_size 는 신경망에 입력되는 데이터의 차원\n",
    "        self.input_size = input_size\n",
    "        self.hidden_size = hidden_size\n",
    "        #편향과 행렬곱 포함 연산 객체 -Linear \n",
    "        # 활성화 함수를 두개를 미리 정의?\n",
    "        self.linear_1 = torch.nn.Linear(self.input_size, self.hidden_size)\n",
    "        self.relu = torch.nn.ReLU()\n",
    "        self.linear_2 = torch.nn.Linear(self.hidden_size,1)\n",
    "        self.sigmoid = torch.nn.Sigmoid()\n",
    "        \n",
    "    def forward(self, input_tensor):\n",
    "        #첫번째 선형 데이터를 릴루에 넣고 \n",
    "        #위 데이터를 또 시그모이드에 넣고?\n",
    "        linear1 = self.linear_1(input_tensor)\n",
    "        relu = self.relu(linear1)\n",
    "        linear2 = self.linear_2(relu)\n",
    "        output = self.sigmoid(linear2)\n",
    "        return output    "
   ]
  },
  {
   "cell_type": "code",
   "execution_count": 4,
   "metadata": {},
   "outputs": [
    {
     "name": "stdout",
     "output_type": "stream",
     "text": [
      "Before training, test loss is 0.6913480758666992\n"
     ]
    }
   ],
   "source": [
    "model = NerualNet(2,5)\n",
    "learning_rate = 0.03\n",
    "#파이토치에서 제공하는 이진 교차 엔트로피(오차 함수)\n",
    "criterion = torch.nn.BCELoss()\n",
    "\n",
    "epochs = 2000\n",
    "#확률적 경사하강법 \n",
    "optimizer = torch.optim.SGD(model.parameters(), lr = learning_rate)\n",
    "\n",
    "model.eval()\n",
    "#모델의 결과값과 레이블 차원을 맞추기위해 squeeze 함.\n",
    "test_loss_before = criterion(model(x_test).squeeze(), y_test)\n",
    "# 트레이닝 전에는 70% 확률로 맞춤\n",
    "print('Before training, test loss is {}'.format(test_loss_before.item()))"
   ]
  },
  {
   "cell_type": "code",
   "execution_count": 5,
   "metadata": {},
   "outputs": [
    {
     "name": "stdout",
     "output_type": "stream",
     "text": [
      "Train loss at0 is 0.6958037614822388\n",
      "Train loss at100 is 0.6649785041809082\n",
      "Train loss at200 is 0.6282413005828857\n",
      "Train loss at300 is 0.589830756187439\n",
      "Train loss at400 is 0.5498751401901245\n",
      "Train loss at500 is 0.5093755125999451\n",
      "Train loss at600 is 0.46587783098220825\n",
      "Train loss at700 is 0.41601690649986267\n",
      "Train loss at800 is 0.3544718325138092\n",
      "Train loss at900 is 0.28646376729011536\n",
      "Train loss at1000 is 0.22730624675750732\n",
      "Train loss at1100 is 0.18191280961036682\n",
      "Train loss at1200 is 0.14809434115886688\n",
      "Train loss at1300 is 0.12169536203145981\n",
      "Train loss at1400 is 0.10062289237976074\n",
      "Train loss at1500 is 0.08343585580587387\n",
      "Train loss at1600 is 0.0695355087518692\n",
      "Train loss at1700 is 0.05840771272778511\n",
      "Train loss at1800 is 0.049645327031612396\n",
      "Train loss at1900 is 0.04271751642227173\n"
     ]
    }
   ],
   "source": [
    "#2000번 트레인 한 이후 오차율 급격히 줄여감.\n",
    "for epoch in range(epochs):\n",
    "    model.train()\n",
    "    optimizer.zero_grad()\n",
    "    train_output = model(x_train)\n",
    "    train_loss = criterion(train_output.squeeze(), y_train)\n",
    "    if epoch % 100 == 0 :\n",
    "        print('Train loss at{} is {}'.format(epoch, train_loss.item()))\n",
    "    train_loss.backward()\n",
    "    optimizer.step()"
   ]
  },
  {
   "cell_type": "code",
   "execution_count": 6,
   "metadata": {},
   "outputs": [
    {
     "name": "stdout",
     "output_type": "stream",
     "text": [
      "after Training, test loss is 0.04133392497897148\n"
     ]
    }
   ],
   "source": [
    "#트레이닝 후 모델 평가.\n",
    "model.eval()\n",
    "test_loss = criterion(torch.squeeze(model(x_test)), y_test)\n",
    "print('after Training, test loss is {}'.format(test_loss.item()))"
   ]
  },
  {
   "cell_type": "code",
   "execution_count": 7,
   "metadata": {},
   "outputs": [
    {
     "name": "stdout",
     "output_type": "stream",
     "text": [
      "state_dic foramt of the model: OrderedDict([('linear_1.weight', tensor([[-1.6836, -0.9950],\n",
      "        [ 1.3669,  2.1072],\n",
      "        [-0.1332, -0.0291],\n",
      "        [-1.4273,  1.5546],\n",
      "        [ 0.8518, -0.2137]])), ('linear_1.bias', tensor([ 0.3077, -0.3492, -0.2493, -0.2149,  0.5362])), ('linear_2.weight', tensor([[-1.8758, -2.4439,  0.2746,  2.0485,  0.8377]])), ('linear_2.bias', tensor([1.4587]))])\n"
     ]
    }
   ],
   "source": [
    "torch.save(model.state_dict(), './model.pt')\n",
    "print('state_dic foramt of the model: {}'.format(model.state_dict()))"
   ]
  },
  {
   "cell_type": "code",
   "execution_count": 8,
   "metadata": {},
   "outputs": [
    {
     "name": "stdout",
     "output_type": "stream",
     "text": [
      "벡터 [-1,1]이 레이블 1을 가질 확률은 0.9866456389427185\n"
     ]
    }
   ],
   "source": [
    "new_model = NerualNet(2,5)\n",
    "new_model.load_state_dict(torch.load('./model.pt'))\n",
    "new_model.eval()\n",
    "print('벡터 [-1,1]이 레이블 1을 가질 확률은 {}'.format(new_model(torch.FloatTensor([-1,1])).item()))"
   ]
  },
  {
   "cell_type": "code",
   "execution_count": null,
   "metadata": {},
   "outputs": [],
   "source": []
  }
 ],
 "metadata": {
  "kernelspec": {
   "display_name": "PyTorch",
   "language": "python",
   "name": "pytorch"
  },
  "language_info": {
   "codemirror_mode": {
    "name": "ipython",
    "version": 3
   },
   "file_extension": ".py",
   "mimetype": "text/x-python",
   "name": "python",
   "nbconvert_exporter": "python",
   "pygments_lexer": "ipython3",
   "version": "3.8.5"
  }
 },
 "nbformat": 4,
 "nbformat_minor": 4
}
